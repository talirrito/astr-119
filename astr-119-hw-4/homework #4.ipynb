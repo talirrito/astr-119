{
 "cells": [
  {
   "cell_type": "markdown",
   "id": "4c6aeaed",
   "metadata": {},
   "source": [
    "## Bisection Search"
   ]
  },
  {
   "cell_type": "code",
   "execution_count": null,
   "id": "7c035509",
   "metadata": {},
   "outputs": [],
   "source": [
    "%matplotlib inline \n",
    "import numpy as np \n",
    "import matplotlib.pyplot as plt"
   ]
  },
  {
   "cell_type": "markdown",
   "id": "4a2fcf52",
   "metadata": {},
   "source": [
    "## Define a function for which we'd like to find roots"
   ]
  },
  {
   "cell_type": "code",
   "execution_count": null,
   "id": "97f8f8ce",
   "metadata": {},
   "outputs": [],
   "source": [
    "def function_for_roots(x):\n",
    "    a = 1.01\n",
    "    b = -3.04\n",
    "    c = 2.07\n",
    "    return a*x**2 + b*x + c #quadratic formula yay, also it's kinda aaaa that a ^ is now a **"
   ]
  },
  {
   "cell_type": "markdown",
   "id": "797bfd1c",
   "metadata": {},
   "source": [
    "## validate our initial bracket"
   ]
  },
  {
   "cell_type": "code",
   "execution_count": null,
   "id": "6eb59f91",
   "metadata": {},
   "outputs": [],
   "source": [
    "def check_initial_values(f, x_min, x_max, tol):\n",
    "    \n",
    "    y_min = f(x_min)\n",
    "    y_max = f(x_max)\n",
    "    \n",
    "    #check that x_min and x_max contain a zero crossing \n",
    "    if(y_min*y_max>0.0):\n",
    "        print(\"No zero crossing found in the range =\",x_min, x_max)\n",
    "        s = \"f(%f) = %f, f(%f) = %f\" % (x_min, y_min, x_max, y_max)\n",
    "        print(s)\n",
    "        return 0\n",
    "    \n",
    "    #if x_min is a root, then return flag ==1 \n",
    "    if(np.fabs(y_min)<tol):\n",
    "        return 1\n",
    "    \n",
    "    #if x_max is a root, return flag == 2\n",
    "    if(np.fabs(y_max)<tol):\n",
    "        return 2\n",
    "    \n",
    "    #if we reach this point, the bracket is valid \n",
    "    #and we will return 3 \n",
    "    return 3"
   ]
  },
  {
   "cell_type": "markdown",
   "id": "e161faf8",
   "metadata": {},
   "source": [
    "# main work function "
   ]
  },
  {
   "cell_type": "code",
   "execution_count": null,
   "id": "5b9fab46",
   "metadata": {},
   "outputs": [],
   "source": [
    "def bisection_root_finding(f, x_min_start, x_max_start, tol):\n",
    "    \n",
    "    #this function uses bisection search to find a root \n",
    "    \n",
    "    x_min = x_min_start \n",
    "    x_max = x_max_start\n",
    "    x_mid = 0.0\n",
    "    \n",
    "    y_min = f(x_min)\n",
    "    y_max = f(x_max)\n",
    "    y_mid = 0.0 \n",
    "    \n",
    "    imax = 100 #max number of iterations \n",
    "    i = 0 #iteration counter \n",
    "    \n",
    "    #check the initial values \n",
    "    flag = check_initial_values(f,x_min,x_max,tol)\n",
    "    if(flag==0): #if it equals 0, we have bad set of initial \n",
    "        print(\"Error in bisection_root_finding().\")\n",
    "        raise ValueError('Initial values invalid', x_min, x_max)\n",
    "    elif(flag==1): #got lucky \n",
    "        return x_min\n",
    "    elif(flag==2): #got lucky \n",
    "        return x_max\n",
    "    \n",
    "    #if we reach here, then we conduct the search \n",
    "    \n",
    "    #set a flag \n",
    "    flag = 1\n",
    "    \n",
    "    #enter a while loop\n",
    "    while (flag):\n",
    "        x_mid = 0.5*(x_min+x_max) #midpoint \n",
    "        y_mid = f(x_mid)  #function value at x_mid\n",
    "        \n",
    "        #check it x_mid is a root \n",
    "        if(np.fabs(y_mid)<tol):\n",
    "            flag = 0 \n",
    "        else:\n",
    "            #x_mid is anot a root \n",
    "            \n",
    "            #if the product of the function at the midpoint \n",
    "            #and at one of the end points is greater than\n",
    "            #zero, replace this end point \n",
    "            if(f(x_min)*f(x_mid)>0):\n",
    "                #replace x_min with x_mid \n",
    "                x_min = x_mid \n",
    "            else:\n",
    "                #replace x_max with x_mid \n",
    "                x_max = x_mid \n",
    "        \n",
    "        #print out the iteration \n",
    "        print(x_min, f(x_min), x_max,f(x_max))\n",
    "        \n",
    "        #count the iteration \n",
    "        i += 1\n",
    "        \n",
    "        #if we have exceeded the max number \n",
    "        #of iterations, exit \n",
    "        if(i >=imax):\n",
    "            print(\"Exceeded max number of iterations =\", i)\n",
    "            s = \"Min bracket f(%f) = %f\" % (x_min, f(x_min))\n",
    "            print(s)\n",
    "            s = \"Max bracket f(%f) %f\" % (x_max, f(x_max))\n",
    "            print(s)\n",
    "            s = \"Mid bracket f(%f) = %f\" % (x_mid, f(x_mid))\n",
    "            print(s)\n",
    "            raise StopIteration('stopping iterations after',i)\n",
    "            \n",
    "    #we are done!\n",
    "    return x_mid\n",
    "    "
   ]
  },
  {
   "cell_type": "markdown",
   "id": "a2f2e32a",
   "metadata": {},
   "source": [
    "## perform the search"
   ]
  },
  {
   "cell_type": "code",
   "execution_count": null,
   "id": "ec302e38",
   "metadata": {},
   "outputs": [],
   "source": [
    "x_min = 0.0\n",
    "x_max = 1.5\n",
    "tolerance = 1.0e-6\n",
    "\n",
    "#print the initial guesses\n",
    "print(x_min,function_for_roots(x_min))\n",
    "print(x_max,function_for_roots(x_max))\n",
    "\n",
    "x_root_1 = bisection_root_finding(function_for_roots,x_min,x_max,tolerance)\n",
    "y_root_1 = function_for_roots(x_root_1)\n",
    "\n",
    "s = \"Root found with y(%f) = %f\" % (x_root_1,y_root_1)\n",
    "print (s)"
   ]
  },
  {
   "cell_type": "code",
   "execution_count": null,
   "id": "bd42f0a2",
   "metadata": {},
   "outputs": [],
   "source": [
    "x_min = 1.5\n",
    "x_max = 3\n",
    "tolerance = 1.0e-6\n",
    "\n",
    "#print the initial guesses\n",
    "print(x_min,function_for_roots(x_min))\n",
    "print(x_max,function_for_roots(x_max))\n",
    "\n",
    "x_root_2 = bisection_root_finding(function_for_roots,x_min,x_max,tolerance)\n",
    "y_root_2 = function_for_roots(x_root_2)\n",
    "\n",
    "s = \"Root found with y(%f) = %f\" % (x_root_2,y_root_2)\n",
    "print (s)"
   ]
  },
  {
   "cell_type": "markdown",
   "id": "2b374ec0",
   "metadata": {},
   "source": [
    "## Iterations = 19, found by adjusting imax until I received an error message at 18 but not at 19! "
   ]
  },
  {
   "cell_type": "code",
   "execution_count": null,
   "id": "f72c0d71",
   "metadata": {},
   "outputs": [],
   "source": [
    "#function_for_roots = plt.figure(figsize=(6,6)) \n",
    "x = np.linspace(0,3,1000) #from 0 to 3, our search region and 1000 evenly spaced values\n",
    "y = [function_for_roots(i)for i in x] #call the function\n",
    "f = 0*x #the line for x where y = 0. \n",
    "plt.plot(0.0,0,'bo') #plot the leftmost point of the first search in blue\n",
    "plt.plot(1.5,0,'bo') #plot the rightmost point of the first search in blue\n",
    "plt.plot(3,0,'yo') #plot the rightmost point of the first search in blue\n",
    "plt.xlabel('x')  #label the x axis \n",
    "plt.ylabel('y')  #label the y axis\n",
    "plt.plot(x, y)   #plot x vs y\n",
    "plt.plot(f)      #plot the x axis \n",
    "plt.plot(x_root_1, y_root_1,'ro') #plot the first root in red\n",
    "plt.plot(x_root_2,y_root_2,'ro')  #plot the second root in red\n",
    "plt.xlim([0,3])   #limit the x-range to between 0 and 3\n",
    "plt.ylim([-0.5,2.1]) #limit the y range between -0.5 to 2.1\n",
    "plt.show()           #let there be light! "
   ]
  }
 ],
 "metadata": {
  "kernelspec": {
   "display_name": "Python 3 (ipykernel)",
   "language": "python",
   "name": "python3"
  },
  "language_info": {
   "codemirror_mode": {
    "name": "ipython",
    "version": 3
   },
   "file_extension": ".py",
   "mimetype": "text/x-python",
   "name": "python",
   "nbconvert_exporter": "python",
   "pygments_lexer": "ipython3",
   "version": "3.9.7"
  }
 },
 "nbformat": 4,
 "nbformat_minor": 5
}
