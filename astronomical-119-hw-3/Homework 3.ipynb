{
 "cells": [
  {
   "cell_type": "code",
   "execution_count": null,
   "id": "9625c616",
   "metadata": {},
   "outputs": [],
   "source": [
    "import numpy as np\n",
    "import matplotlib.pyplot as plt\n",
    "%matplotlib inline"
   ]
  },
  {
   "cell_type": "code",
   "execution_count": null,
   "id": "01acff81",
   "metadata": {},
   "outputs": [],
   "source": [
    "x = np.linspace(0,2*np.pi,1000)\n",
    "y_1 = 5.5*np.cos(2*x) + 5.5\n",
    "y_2 = 0.02*np.exp(x)\n",
    "y_3 = 0.25*(x)**2+0.1*np.sin(10*x)"
   ]
  },
  {
   "cell_type": "code",
   "execution_count": null,
   "id": "fc7c260e",
   "metadata": {},
   "outputs": [],
   "source": [
    "plt.plot(x,y_1)\n",
    "plt.plot(x,y_2)\n",
    "plt.plot(x,y_3)\n",
    "plt.xlim(0, 2*np.pi)\n",
    "plt.ylim(-1, 10)\n",
    "plt.xlabel('Time in ASTR119')\n",
    "plt.ylabel('Measures of Awesomeness')\n",
    "plt.show()"
   ]
  },
  {
   "cell_type": "code",
   "execution_count": null,
   "id": "c5e5bca1",
   "metadata": {},
   "outputs": [],
   "source": []
  }
 ],
 "metadata": {
  "kernelspec": {
   "display_name": "Python 3 (ipykernel)",
   "language": "python",
   "name": "python3"
  },
  "language_info": {
   "codemirror_mode": {
    "name": "ipython",
    "version": 3
   },
   "file_extension": ".py",
   "mimetype": "text/x-python",
   "name": "python",
   "nbconvert_exporter": "python",
   "pygments_lexer": "ipython3",
   "version": "3.9.7"
  }
 },
 "nbformat": 4,
 "nbformat_minor": 5
}
