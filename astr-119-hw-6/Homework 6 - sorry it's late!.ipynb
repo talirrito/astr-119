{
 "cells": [
  {
   "cell_type": "markdown",
   "id": "adbebf8b",
   "metadata": {},
   "source": [
    "## Import our favoritest friends ever...the double trouble!"
   ]
  },
  {
   "cell_type": "code",
   "execution_count": 1,
   "id": "fb2de745",
   "metadata": {},
   "outputs": [],
   "source": [
    "%matplotlib inline\n",
    "import matplotlib.pyplot as plt\n",
    "import numpy as np"
   ]
  },
  {
   "cell_type": "markdown",
   "id": "903d4edc",
   "metadata": {},
   "source": [
    "## Define our function "
   ]
  },
  {
   "cell_type": "code",
   "execution_count": 2,
   "id": "c3738651",
   "metadata": {},
   "outputs": [],
   "source": [
    "def dfdx(x,f): \n",
    "    \n",
    "    y = f[0] #set y as the first fn\n",
    "    z = f[1] #set z as the second fn, equivalent to the 2nd derivative \n",
    "    dydx = np.zeros_like(f) \n",
    "    dydx[0] = z #first derivative \n",
    "    dydx[1] = -1*y #second derivative\n",
    "    \n",
    "    return dydx"
   ]
  },
  {
   "cell_type": "markdown",
   "id": "511a0caf",
   "metadata": {},
   "source": [
    "## Define the cash karp core "
   ]
  },
  {
   "cell_type": "code",
   "execution_count": 3,
   "id": "106a82b6",
   "metadata": {},
   "outputs": [],
   "source": [
    "def cash_karp_core_mv(x_i,y_i,nv,h,f):\n",
    "    \n",
    "    #define array\n",
    "    #side note - I had originally written each k value out with each value and then realized it was really easy to make mistakes\n",
    "    #brant's way of doing this has way less room for mistakes\n",
    "    \n",
    "    ni = 7 \n",
    "    nj = 6\n",
    "    ci = np.zeros(ni)\n",
    "    aij = np.zeros((ni,nj))\n",
    "    bi = np.zeros(ni)\n",
    "    bis = np.zeros(ni)\n",
    "    \n",
    "    #write all the constants \n",
    "    \n",
    "    ci[2] = 1./5. \n",
    "    ci[3] = 3./10.\n",
    "    ci[4] = 3./5.\n",
    "    ci[5] = 1.\n",
    "    ci[6] = 7./8.\n",
    "    \n",
    "    aij[2,1] = 1./5\n",
    "    aij[3,1] = 3./40.\n",
    "    aij[4,1] = 3./10\n",
    "    aij[5,1] = -11./54.\n",
    "    aij[6,1] = 1631./55296.\n",
    "    \n",
    "    aij[3,2] = 9./40.\n",
    "    aij[4,2] = -9./10.\n",
    "    aij[5,2] = 5./2.\n",
    "    aij[6,2] = 175./512.\n",
    "    \n",
    "    aij[4,3] = 6./5.\n",
    "    aij[5,3] = -70./27.\n",
    "    aij[6,3] = 575./13824.\n",
    "    \n",
    "    aij[5,4] = 35./27.\n",
    "    aij[6,4] = 44275./110592.\n",
    "    \n",
    "    aij[6,5] = 253./4096.\n",
    "    \n",
    "    bi[1] = 37./378.\n",
    "    bi[2] = 0.\n",
    "    bi[3] = 250./621.\n",
    "    bi[4] = 125./594.\n",
    "    bi[5] = 0.0\n",
    "    bi[6] = 512./1771.\n",
    "    \n",
    "    bis[1] = 2825./27648.\n",
    "    bis[2] = 0.0\n",
    "    bis[3] = 18575./48384.\n",
    "    bis[4] = 13525./55296.\n",
    "    bis[5] = 277./14336.\n",
    "    bis[6] = 1./4.\n",
    "    \n",
    "    #define the array ki\n",
    "    \n",
    "    ki = np.zeros((ni,nv))\n",
    "    \n",
    "    #convert the math for the karp method into code \n",
    "    \n",
    "    for i in range(1,ni):\n",
    "        xn = x_i + ci[i]*h\n",
    "        \n",
    "        yn = y_i.copy()\n",
    "        for j in range(1,i):\n",
    "            yn += aij[i,j]*ki[j,:]\n",
    "            \n",
    "        ki[i,:] = h*f(xn,yn) #the \":\" means for every element in that array\n",
    "        \n",
    "    ynpo = y_i.copy() \n",
    "    ynpos = y_i.copy()\n",
    "        \n",
    "    for i in range(1,ni): \n",
    "        ynpo += bi[i]*ki[i,:]\n",
    "        ynpos += bis[i]*ki[i,:]\n",
    "            \n",
    "    Delta = np.fabs(ynpo-ynpos) #define the error\n",
    "        \n",
    "        \n",
    "    return ynpo, Delta"
   ]
  },
  {
   "cell_type": "code",
   "execution_count": 4,
   "id": "224e10f3",
   "metadata": {},
   "outputs": [],
   "source": [
    "def cash_karp_mv_ad(dfdx,x_i,y_i,nv,h,tol):\n",
    "    \n",
    "    SAFETY = 0.9 #honestly not quite sure what this does or why 0.9 so need to find out\n",
    "    H_NEW_FAC = 2.0 #same here \n",
    "    \n",
    "    imax = 1000 #define max value of i \n",
    "    \n",
    "    i = 0 #define starting definition of i\n",
    "    \n",
    "    Delta = np.full(nv,2*tol) \n",
    "    \n",
    "    h_step = h\n",
    "    \n",
    "    while(Delta.max()/tol>1.0): #write the error code\n",
    "        y_ipo, Delta = cash_karp_core_mv(x_i,y_i,nv,h_step,dfdx)\n",
    "        if(Delta.max()/tol>1.0):\n",
    "            h_step *= SAFETY * (Delta.max()/tol)**(-0.25) #if error is too large, reduce the size of our step\n",
    "        if(i>=imax): #checking\n",
    "            print(\"Too many iterations\")\n",
    "            raise StopIteration(\"Ending after i = \", i)\n",
    "            \n",
    "        i += 1\n",
    "    #time for a bigger step\n",
    "    h_new = np.fmin(h_step*(Delta.max()/tol)**(-0.9), h_step*H_NEW_FAC)\n",
    "    \n",
    "    #returning the answers and info about step, new evolved values for y, step func, etc..\n",
    "    return y_ipo, h_new, h_step"
   ]
  },
  {
   "cell_type": "code",
   "execution_count": 5,
   "id": "a465764d",
   "metadata": {},
   "outputs": [],
   "source": [
    "def cash_karp_mv(dfdx,a,b,y_a,tol,verbose=False): #I'm still a little unclear exactly what verbose does but I do know that without it, this doesn't work\n",
    "    \n",
    "    xi = a \n",
    "    yi = y_a.copy() #creates a copy of an existing list \n",
    "    \n",
    "    h = 1.0e-4*(b-a) #define h based on the equation \n",
    "    \n",
    "    imax = 1000\n",
    "    \n",
    "    i = 0\n",
    "    \n",
    "    nv = len(y_a) #assign nv the length of y_a\n",
    "    \n",
    "    x = np.full(1,a)\n",
    "    y = np.full((1,nv), y_a)\n",
    "    \n",
    "    flag = 1\n",
    "    \n",
    "    while(flag):\n",
    "        \n",
    "        y_ipo, h_new, h_step = cash_karp_mv_ad(dfdx,xi,yi,nv,h,tol)\n",
    "        \n",
    "        h = h_new\n",
    "        \n",
    "        if(xi+h_step>b):\n",
    "            \n",
    "            h = b - xi\n",
    "            \n",
    "            y_ipo, h_new, h_step = cash_karp_mv_ad(dfdx,xi,yi,nv,h,tol)\n",
    "        \n",
    "            flag = 0\n",
    "        \n",
    "        xi += h_step\n",
    "        yi = y_ipo.copy()\n",
    "        \n",
    "        x = np.append(x,xi)\n",
    "        y_ipo = np.zeros((len(x),nv))\n",
    "        y_ipo[0:len(x)-1,:] = y[:]\n",
    "        y_ipo[-1,:] = yi[:]\n",
    "        del y\n",
    "        y = y_ipo\n",
    "        \n",
    "        if(i>=imax):\n",
    "            print(\"Maximum iterations reached.\")\n",
    "            raise StopIteration(\"Iteration number = \", i)\n",
    "            \n",
    "        i += 1\n",
    "            \n",
    "        if(verbose): #its literally verbose, I know what this does!\n",
    "            s = \"i = %3d\\tx = %9.8f\\ty = %9.8f\\th = %9.8f\\tb = %9.8f\" % (i,xi,yi[0],h_step,b)\n",
    "            print(s)\n",
    "                \n",
    "        if(xi==b):\n",
    "            flag = 0\n",
    "                \n",
    "    return x, y"
   ]
  },
  {
   "cell_type": "markdown",
   "id": "5e0e65e6",
   "metadata": {},
   "source": [
    "## Get the values for our nice graph"
   ]
  },
  {
   "cell_type": "code",
   "execution_count": 6,
   "id": "173de6b9",
   "metadata": {
    "scrolled": true
   },
   "outputs": [
    {
     "name": "stdout",
     "output_type": "stream",
     "text": [
      "i =   1\tx = 0.00062832\ty = 0.00062832\th = 0.00062832\tb = 6.28318531\n",
      "i =   2\tx = 0.00188496\ty = 0.00188495\th = 0.00125664\tb = 6.28318531\n",
      "i =   3\tx = 0.00439823\ty = 0.00439822\th = 0.00251327\tb = 6.28318531\n",
      "i =   4\tx = 0.00942478\ty = 0.00942464\th = 0.00502655\tb = 6.28318531\n",
      "i =   5\tx = 0.01947787\ty = 0.01947664\th = 0.01005310\tb = 6.28318531\n",
      "i =   6\tx = 0.03958407\ty = 0.03957373\th = 0.02010619\tb = 6.28318531\n",
      "i =   7\tx = 0.07979645\ty = 0.07971180\th = 0.04021239\tb = 6.28318531\n",
      "i =   8\tx = 0.16022123\ty = 0.15953660\th = 0.08042477\tb = 6.28318531\n",
      "i =   9\tx = 0.32107077\ty = 0.31558279\th = 0.16084954\tb = 6.28318531\n",
      "i =  10\tx = 0.64276986\ty = 0.59941495\th = 0.32169909\tb = 6.28318531\n",
      "i =  11\tx = 0.93739384\ty = 0.80601851\th = 0.29462398\tb = 6.28318531\n",
      "i =  12\tx = 1.20675386\ty = 0.93446544\th = 0.26936002\tb = 6.28318531\n",
      "i =  13\tx = 1.49426997\ty = 0.99707369\th = 0.28751611\tb = 6.28318531\n",
      "i =  14\tx = 1.76344767\ty = 0.98150050\th = 0.26917769\tb = 6.28318531\n",
      "i =  15\tx = 2.03076151\ty = 0.89606839\th = 0.26731385\tb = 6.28318531\n",
      "i =  16\tx = 2.29758389\ty = 0.74731321\th = 0.26682237\tb = 6.28318531\n",
      "i =  17\tx = 2.56844699\ty = 0.54227799\th = 0.27086310\tb = 6.28318531\n",
      "i =  18\tx = 2.84768738\ty = 0.28969237\th = 0.27924039\tb = 6.28318531\n",
      "i =  19\tx = 3.12869484\ty = 0.01289739\th = 0.28100745\tb = 6.28318531\n",
      "i =  20\tx = 3.39732623\ty = -0.25295549\th = 0.26863139\tb = 6.28318531\n",
      "i =  21\tx = 3.66411066\ty = -0.49906425\th = 0.26678443\tb = 6.28318531\n",
      "i =  22\tx = 3.93155133\ty = -0.71032491\th = 0.26744067\tb = 6.28318531\n",
      "i =  23\tx = 4.20391433\ty = -0.87348904\th = 0.27236300\tb = 6.28318531\n",
      "i =  24\tx = 4.48601277\ty = -0.97448720\th = 0.28209844\tb = 6.28318531\n",
      "i =  25\tx = 4.76275451\ty = -0.99873304\th = 0.27674175\tb = 6.28318531\n",
      "i =  26\tx = 5.03073667\ty = -0.94975497\th = 0.26798215\tb = 6.28318531\n",
      "i =  27\tx = 5.29729916\ty = -0.83376264\th = 0.26656249\tb = 6.28318531\n",
      "i =  28\tx = 5.56553774\ty = -0.65761502\th = 0.26823858\tb = 6.28318531\n",
      "i =  29\tx = 5.83966631\ty = -0.42912109\th = 0.27412857\tb = 6.28318531\n",
      "i =  30\tx = 6.12503238\ty = -0.15749453\th = 0.28536607\tb = 6.28318531\n",
      "i =  31\tx = 6.28318531\ty = 0.00000015\th = 0.15815293\tb = 6.28318531\n"
     ]
    }
   ],
   "source": [
    "a = 0.0 #a in our equation\n",
    "b = 2.0*np.pi #b in our equation\n",
    "y_0 = np.zeros(2)\n",
    "y_0[0] = 0.0\n",
    "y_0[1] = 1.0\n",
    "nv = 2\n",
    "\n",
    "tolerance = 1.0e-6\n",
    "x,y = cash_karp_mv(dfdx,a,b,y_0,tolerance,verbose=True) #there's the verbose thing again!"
   ]
  },
  {
   "cell_type": "markdown",
   "id": "a16ba3e4",
   "metadata": {},
   "source": [
    "## Create the super pretty plot!"
   ]
  },
  {
   "cell_type": "code",
   "execution_count": 7,
   "id": "89473c55",
   "metadata": {},
   "outputs": [
    {
     "data": {
      "text/plain": [
       "<matplotlib.legend.Legend at 0x1142c93d0>"
      ]
     },
     "execution_count": 7,
     "metadata": {},
     "output_type": "execute_result"
    },
    {
     "data": {
      "image/png": "[encoded data removed]",
      "text/plain": [
       "<Figure size 432x288 with 1 Axes>"
      ]
     },
     "metadata": {
      "needs_background": "light"
     },
     "output_type": "display_data"
    }
   ],
   "source": [
    "plt.plot(x,y[:,0],'o',label='y(x)')\n",
    "plt.plot(x,y[:,1],'o',label='z(x)')\n",
    "plt.plot(x,np.sin(x),label='sin(x)')\n",
    "plt.plot(x,np.cos(x),label='cos(x)')\n",
    "plt.xlim([0,2*np.pi])\n",
    "plt.ylim([-1.2,1.2])\n",
    "plt.legend(frameon=False)"
   ]
  },
  {
   "cell_type": "markdown",
   "id": "4fe9d74f",
   "metadata": {},
   "source": [
    "## Plot the eroor"
   ]
  },
  {
   "cell_type": "code",
   "execution_count": 8,
   "id": "d7e6453d",
   "metadata": {},
   "outputs": [
    {
     "data": {
      "text/plain": [
       "<matplotlib.legend.Legend at 0x1143e5fd0>"
      ]
     },
     "execution_count": 8,
     "metadata": {},
     "output_type": "execute_result"
    },
    {
     "data": {
      "image/png": "[encoded data removed]",
      "text/plain": [
       "<Figure size 432x288 with 1 Axes>"
      ]
     },
     "metadata": {
      "needs_background": "light"
     },
     "output_type": "display_data"
    }
   ],
   "source": [
    "plt.plot(x,y[:,0]-np.sin(x), label=\"y(x) Error\")\n",
    "plt.plot(x,y[:,1]-np.cos(x), label=\"z(x) Error\")\n",
    "plt.legend()"
   ]
  },
  {
   "cell_type": "markdown",
   "id": "34bcc745",
   "metadata": {},
   "source": [
    "## Ta-Da, done! This took way too long for me to figure out even with Brant's solution, hahah!"
   ]
  }
 ],
 "metadata": {
  "kernelspec": {
   "display_name": "Python 3 (ipykernel)",
   "language": "python",
   "name": "python3"
  },
  "language_info": {
   "codemirror_mode": {
    "name": "ipython",
    "version": 3
   },
   "file_extension": ".py",
   "mimetype": "text/x-python",
   "name": "python",
   "nbconvert_exporter": "python",
   "pygments_lexer": "ipython3",
   "version": "3.9.7"
  }
 },
 "nbformat": 4,
 "nbformat_minor": 5
}
