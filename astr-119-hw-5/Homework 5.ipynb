{
 "cells": [
  {
   "cell_type": "code",
   "execution_count": null,
   "id": "986d1c79",
   "metadata": {},
   "outputs": [],
   "source": [
    "%matplotlib inline \n",
    "import numpy as np \n",
    "import matplotlib.pyplot as plt\n",
    "from math import e #it's way easier to do this than the exp.thing"
   ]
  },
  {
   "cell_type": "markdown",
   "id": "aae2d647",
   "metadata": {},
   "source": [
    "# Define the function we want to integrate "
   ]
  },
  {
   "cell_type": "code",
   "execution_count": null,
   "id": "c7136985",
   "metadata": {},
   "outputs": [],
   "source": [
    "def func(x):  \n",
    "    a = e**(-2*x)\n",
    "    b = np.cos(10*x)\n",
    "    return a*b"
   ]
  },
  {
   "cell_type": "code",
   "execution_count": null,
   "id": "cc620428",
   "metadata": {},
   "outputs": [],
   "source": [
    "def func_integral(x):\n",
    "    a = e**(-2*x)\n",
    "    b = np.cos(10*x)\n",
    "    return 5*a*np.sin(10*x)/52 - a*b/52 #I literally cannot integrate so I just wrote the answer lol"
   ]
  },
  {
   "cell_type": "markdown",
   "id": "51938765",
   "metadata": {},
   "source": [
    "# Use the Trapezoid Method"
   ]
  },
  {
   "cell_type": "code",
   "execution_count": null,
   "id": "6d97beaf",
   "metadata": {},
   "outputs": [],
   "source": [
    "def trapezoid_core(f,x,h):\n",
    "    return 0.5*h*(f(x+h)+f(x))"
   ]
  },
  {
   "cell_type": "code",
   "execution_count": null,
   "id": "c8c647e8",
   "metadata": {},
   "outputs": [],
   "source": [
    "def trapezoid_method (f, a, b, N):\n",
    "    # f == f is for function to integrate!\n",
    "    # a == a is for a lower limit of integration! \n",
    "    # b == b is for best upper limit of integration! \n",
    "    # N == is Number of function evluations to use!\n",
    "    \n",
    "    #define x values to perform trapezoid rule \n",
    "    x = np.linspace(a, b, N) #oh hey it's our ol' linspace buddy!\n",
    "    h = x[1]-x[0]\n",
    "    \n",
    "    #define the value of the integral \n",
    "    Fint = 0.0 \n",
    "    \n",
    "    #perform the integral using the trapezoid method \n",
    "    for i in range(0, len(x)-1,1):\n",
    "        Fint += trapezoid_core(f,x[i],h) \n",
    "    \n",
    "    #return the answer \n",
    "    return Fint "
   ]
  },
  {
   "cell_type": "markdown",
   "id": "336c9320",
   "metadata": {},
   "source": [
    "# Use the Simpson Method"
   ]
  },
  {
   "cell_type": "code",
   "execution_count": null,
   "id": "b8637403",
   "metadata": {},
   "outputs": [],
   "source": [
    "def simpson_core(f,x,h):\n",
    "    return h*(f(x)+4*f(x+h)+f(x+2*h))/3."
   ]
  },
  {
   "cell_type": "code",
   "execution_count": null,
   "id": "5fa2bff6",
   "metadata": {},
   "outputs": [],
   "source": [
    "def simpsons_method(f,a,b,N):\n",
    "    #f == fn to integrate \n",
    "    #a == lower limit of integration \n",
    "    #b == upper limit of integration \n",
    "    #N == number of function evaluations to use \n",
    "    #good point to remember - the number of chunky chunks will be N-1. \n",
    "\n",
    "    #define x values to perform THE bart simpsons rule\n",
    "    x = np.linspace(a,b,N)\n",
    "    h = x[1]-x[0]\n",
    "    \n",
    "    #define the value of the integral \n",
    "    Fint = 0.0 # =^0.0^=\n",
    "    \n",
    "    #perform the integration using THE marge simpsons method \n",
    "    for i in range(0,len(x)-2,2):\n",
    "        Fint += simpson_core(f,x[i],h)\n",
    "    \n",
    "    #apply simpsons rule over the last interval when N is even \n",
    "    if((N%2)==0):\n",
    "        Fint += simpson_core(f,x[-2],0.5*h)\n",
    "    \n",
    "    return Fint"
   ]
  },
  {
   "cell_type": "markdown",
   "id": "082d3ce7",
   "metadata": {},
   "source": [
    "# Use the Romberg Method"
   ]
  },
  {
   "cell_type": "code",
   "execution_count": null,
   "id": "e30ca589",
   "metadata": {},
   "outputs": [],
   "source": [
    "def romberg_core(f,a,b,i):\n",
    "    \n",
    "    #we need the difference b-a\n",
    "    h = b-a\n",
    "    \n",
    "    #and the increment between the new function evaluations \n",
    "    dh = h/2.**(i)\n",
    "    \n",
    "    #cofactor K \n",
    "    K = h/2.**(i+1)\n",
    "    \n",
    "    #and func evals \n",
    "    M = 0.0 \n",
    "    for j in range(2**i):\n",
    "        M += f(a+0.5*dh + j*dh)\n",
    "        \n",
    "    #return the answer \n",
    "    return K*M "
   ]
  },
  {
   "cell_type": "code",
   "execution_count": null,
   "id": "6da518fb",
   "metadata": {},
   "outputs": [],
   "source": [
    "def romberg_integration(f,a,b,tol):\n",
    "    \n",
    "    #define an iteration variable, our fav buddy i \n",
    "    i = 0\n",
    "    \n",
    "    #max number of iterations \n",
    "    imax = 1000 #noooo, not the IMAX movie thing...\n",
    "    \n",
    "    #define error estimate, set it to a larrrrge value \n",
    "    delta = 100.0*np.fabs(tol)\n",
    "    \n",
    "    #set an array of integral answers and make it a floaty float number \n",
    "    I = np.zeros(imax, dtype = float)\n",
    "    \n",
    "    #get the zeroth romberg iteration \n",
    "    I[0] = 0.5*(b-a)*(f(a)+f(b))\n",
    "    \n",
    "    #iterate by 1 \n",
    "    i+=1\n",
    "    \n",
    "    while(delta>tol):\n",
    "        \n",
    "        #find this darn romberg iteration \n",
    "        I[i] = 0.5*I[i-1] + romberg_core(f,a,b,i)\n",
    "        \n",
    "        #compute the new fractional error estimate...it's fabulous. get it? fabs \n",
    "        delta = np.fabs ((I[i]-I[i-1])/I[i])\n",
    "        \n",
    "        print(i, I[i],I[i-1],delta)\n",
    "        \n",
    "        if(delta>tol):\n",
    "            \n",
    "            #iterate \n",
    "            i+=1\n",
    "            \n",
    "            #if we've reached the max iterations \n",
    "            if(i>imax):\n",
    "                print(\"Max iterations reached.\")\n",
    "                raise StopIteration('Stopping iterations after', i)\n",
    "    #return the answer \n",
    "    return I[i]\n",
    "            "
   ]
  },
  {
   "cell_type": "markdown",
   "id": "ad02b931",
   "metadata": {},
   "source": [
    "# Check the integrals"
   ]
  },
  {
   "cell_type": "code",
   "execution_count": null,
   "id": "1ed89b07",
   "metadata": {},
   "outputs": [],
   "source": [
    "Answer = func_integral(np.pi)-func_integral(0)\n",
    "print(Answer)\n",
    "print(\"Trapezoid\")\n",
    "print(trapezoid_method(func,0,np.pi,10))\n",
    "print(\"Simpson's Method\")\n",
    "print(simpsons_method(func,0,np.pi,10))\n",
    "print(\"Romberg\")\n",
    "tolerance = 1.0e-6\n",
    "RI = romberg_integration(func,0,1,tolerance)\n",
    "print(RI, (RI-Answer)/Answer, tolerance)"
   ]
  },
  {
   "cell_type": "markdown",
   "id": "724dc013",
   "metadata": {},
   "source": [
    "## it took 21 iterations for the Romberg method!"
   ]
  },
  {
   "cell_type": "markdown",
   "id": "a26bdf58",
   "metadata": {},
   "source": [
    "## unfortunately, I cannot check how many intervals it would have taken for trapezoid"
   ]
  },
  {
   "cell_type": "markdown",
   "id": "cb984c39",
   "metadata": {},
   "source": [
    "## because my computer freezes and refuses to calculate. But I asked a friend to run it and they said approx 3500"
   ]
  },
  {
   "cell_type": "markdown",
   "id": "30e76e85",
   "metadata": {},
   "source": [
    "## Same thing happens for simpson's but it's around 150. "
   ]
  }
 ],
 "metadata": {
  "kernelspec": {
   "display_name": "Python 3 (ipykernel)",
   "language": "python",
   "name": "python3"
  },
  "language_info": {
   "codemirror_mode": {
    "name": "ipython",
    "version": 3
   },
   "file_extension": ".py",
   "mimetype": "text/x-python",
   "name": "python",
   "nbconvert_exporter": "python",
   "pygments_lexer": "ipython3",
   "version": "3.9.7"
  }
 },
 "nbformat": 4,
 "nbformat_minor": 5
}
